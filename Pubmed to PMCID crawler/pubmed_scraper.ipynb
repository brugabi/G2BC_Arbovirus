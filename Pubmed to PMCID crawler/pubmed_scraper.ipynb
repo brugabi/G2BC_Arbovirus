{
 "cells": [
  {
   "cell_type": "markdown",
   "metadata": {},
   "source": [
    "# Preparação do ambiente"
   ]
  },
  {
   "cell_type": "code",
   "execution_count": 1,
   "metadata": {},
   "outputs": [],
   "source": [
    "import pandas as pd\n",
    "from scripts.webscrapping import extract_pcmid"
   ]
  },
  {
   "cell_type": "markdown",
   "metadata": {},
   "source": [
    "# Extração dos dados\n",
    "\n",
    "obs.: substituir o nome do arquivo  *.csv*  em questão"
   ]
  },
  {
   "cell_type": "code",
   "execution_count": 2,
   "metadata": {},
   "outputs": [],
   "source": [
    "# Importando o csv \n",
    "data = pd.read_csv('data/raw/denv4_pubmed_code.csv')"
   ]
  },
  {
   "cell_type": "markdown",
   "metadata": {},
   "source": [
    "# Transformar tabelas"
   ]
  },
  {
   "cell_type": "code",
   "execution_count": 3,
   "metadata": {},
   "outputs": [],
   "source": [
    "# Dados da coluna Pubmed são de tipo int - csv de saída do codigo de leitura do XML\n",
    "def transform_int_in_string(int):\n",
    "    int = str(int)\n",
    "    return int\n",
    "data['Pubmed_number'] = data['Pubmed_number'].apply(transform_int_in_string)"
   ]
  },
  {
   "cell_type": "code",
   "execution_count": 4,
   "metadata": {},
   "outputs": [],
   "source": [
    "# Explodindo o pubmed\n",
    "exploded_data = data.explode('Pubmed_number')"
   ]
  },
  {
   "cell_type": "code",
   "execution_count": 5,
   "metadata": {},
   "outputs": [],
   "source": [
    "# Dropando as linhas duplicadas\n",
    "exploded_data.drop_duplicates(inplace=True)"
   ]
  },
  {
   "cell_type": "code",
   "execution_count": 6,
   "metadata": {},
   "outputs": [],
   "source": [
    "# Aplicando strip\n",
    "exploded_data['Pubmed_number'] = exploded_data['Pubmed_number'].apply(str.strip)"
   ]
  },
  {
   "cell_type": "code",
   "execution_count": 7,
   "metadata": {},
   "outputs": [],
   "source": [
    "# Pegando a lista de pubmeds\n",
    "pubmed_list = set(exploded_data['Pubmed_number'])"
   ]
  },
  {
   "cell_type": "code",
   "execution_count": 8,
   "metadata": {},
   "outputs": [
    {
     "name": "stdout",
     "output_type": "stream",
     "text": [
      "Pubmed: 16824937, Number: 1\n",
      "Pubmed: 25242312, Number: 2\n",
      "Pubmed: 25689778, Number: 3\n",
      "Pubmed: 21691853, Number: 4\n",
      "Pubmed: 15642976, Number: 5\n",
      "Pubmed: 22216365, Number: 6\n",
      "Pubmed: 24385585, Number: 7\n",
      "Pubmed: 28575000, Number: 8\n",
      "Pubmed: 34696340, Number: 9\n",
      "Pubmed: 24650864, Number: 10\n",
      "Pubmed: 14505913, Number: 11\n",
      "Pubmed: 3022479, Number: 12\n",
      "Pubmed: 33774189, Number: 13\n",
      "Pubmed: 10708439, Number: 14\n",
      "Pubmed: 27215933, Number: 15\n",
      "Pubmed: 15941596, Number: 16\n",
      "Pubmed: 34411743, Number: 17\n",
      "Pubmed: 29056517, Number: 18\n",
      "Pubmed: 23092682, Number: 19\n",
      "Pubmed: 28098525, Number: 20\n",
      "Pubmed: 34610295, Number: 21\n",
      "Pubmed: 11222098, Number: 22\n",
      "Pubmed: 25817238, Number: 23\n",
      "Pubmed: 34931940, Number: 24\n",
      "Pubmed: 19463715, Number: 25\n",
      "Pubmed: 24587454, Number: 26\n",
      "Pubmed: 12620805, Number: 27\n",
      "Pubmed: 11559806, Number: 28\n",
      "Pubmed: 21234665, Number: 29\n",
      "Pubmed: 26047200, Number: 30\n",
      "Pubmed: 36266496, Number: 31\n",
      "Pubmed: 22491255, Number: 32\n",
      "Pubmed: 22000396, Number: 33\n",
      "Pubmed: 26607896, Number: 34\n",
      "Pubmed: 19478273, Number: 35\n",
      "Pubmed: 28600724, Number: 36\n",
      "Pubmed: 34564546, Number: 37\n",
      "Pubmed: 23350000, Number: 38\n",
      "Pubmed: 12363071, Number: 39\n",
      "Pubmed: 22855770, Number: 40\n",
      "Pubmed: 24571329, Number: 41\n",
      "Pubmed: 16282468, Number: 42\n",
      "Pubmed: 19193262, Number: 43\n",
      "Pubmed: 3039728, Number: 44\n",
      "Pubmed: 28414004, Number: 45\n",
      "Pubmed: 30023351, Number: 46\n",
      "Pubmed: 29377886, Number: 47\n",
      "Pubmed: 18945183, Number: 48\n",
      "Pubmed: 24978469, Number: 49\n",
      "Pubmed: 25784569, Number: 50\n",
      "Pubmed: 25866331, Number: 51\n",
      "Pubmed: 20549264, Number: 52\n",
      "Pubmed: 31415663, Number: 53\n",
      "Pubmed: 30113689, Number: 54\n",
      "Pubmed: 20600330, Number: 55\n",
      "Pubmed: 18394292, Number: 56\n",
      "Pubmed: 24007412, Number: 57\n",
      "Pubmed: 27267473, Number: 58\n",
      "Pubmed: 32825262, Number: 59\n",
      "Pubmed: 1438242, Number: 60\n",
      "Pubmed: 23871166, Number: 61\n",
      "Pubmed: 37376575, Number: 62\n",
      "Pubmed: 30366083, Number: 63\n",
      "Pubmed: 32899416, Number: 64\n",
      "Pubmed: 19874927, Number: 65\n",
      "Pubmed: 32145478, Number: 66\n",
      "Pubmed: 34428547, Number: 67\n",
      "Pubmed: 23785205, Number: 68\n",
      "Pubmed: 22178263, Number: 69\n",
      "Pubmed: 19891873, Number: 70\n",
      "Pubmed: 15302944, Number: 71\n",
      "Pubmed: 27316694, Number: 72\n",
      "Pubmed: 22036707, Number: 73\n",
      "Pubmed: 18243816, Number: 74\n",
      "Pubmed: 27069820, Number: 75\n",
      "Pubmed: 37243165, Number: 76\n",
      "Pubmed: 26784852, Number: 77\n",
      "Pubmed: 26426773, Number: 78\n",
      "Pubmed: 17328799, Number: 79\n",
      "Pubmed: 35238677, Number: 80\n",
      "Pubmed: 20670467, Number: 81\n",
      "Pubmed: 32807496, Number: 82\n",
      "Pubmed: 21703015, Number: 83\n",
      "Pubmed: 22890284, Number: 84\n",
      "Pubmed: 17869351, Number: 85\n",
      "Pubmed: 8411360, Number: 86\n",
      "Pubmed: 34082088, Number: 87\n",
      "Pubmed: 16316713, Number: 88\n",
      "Pubmed: 17553878, Number: 89\n",
      "Pubmed: 34208667, Number: 90\n",
      "Pubmed: 17283628, Number: 91\n",
      "Pubmed: 22628403, Number: 92\n",
      "Pubmed: 15695666, Number: 93\n",
      "Pubmed: 11716091, Number: 94\n",
      "Pubmed: 12832629, Number: 95\n",
      "Pubmed: 19965886, Number: 96\n",
      "Pubmed: 23092706, Number: 97\n",
      "Pubmed: 15476884, Number: 98\n",
      "Pubmed: 9292015, Number: 99\n",
      "Pubmed: 22216313, Number: 100\n",
      "Pubmed: 12237425, Number: 101\n",
      "Pubmed: 29470509, Number: 102\n",
      "Pubmed: 28767984, Number: 103\n",
      "Pubmed: 18439431, Number: 104\n",
      "Pubmed: 22991709, Number: 105\n",
      "Pubmed: 27172387, Number: 106\n",
      "Pubmed: 23723400, Number: 107\n",
      "Pubmed: 30157270, Number: 108\n",
      "Pubmed: 23415634, Number: 109\n",
      "Pubmed: 8240006, Number: 110\n",
      "Pubmed: 35779208, Number: 111\n",
      "Pubmed: 17617845, Number: 112\n",
      "Pubmed: 18218114, Number: 113\n",
      "Pubmed: 22826483, Number: 114\n",
      "Pubmed: 22197765, Number: 115\n",
      "Pubmed: 30783772, Number: 116\n",
      "Pubmed: 26868382, Number: 117\n",
      "Pubmed: 25635775, Number: 118\n",
      "Pubmed: 32512828, Number: 119\n",
      "Pubmed: 26517653, Number: 120\n",
      "Pubmed: 23421733, Number: 121\n",
      "Pubmed: 24916872, Number: 122\n",
      "Pubmed: 23127562, Number: 123\n",
      "Pubmed: 22247521, Number: 124\n",
      "Pubmed: 26841048, Number: 125\n"
     ]
    }
   ],
   "source": [
    "# Extraindo os pmcid\n",
    "obtained_pmcids = extract_pcmid(pubmed_list=pubmed_list)"
   ]
  },
  {
   "cell_type": "code",
   "execution_count": 9,
   "metadata": {},
   "outputs": [],
   "source": [
    "# Inserindo o PMCID do respectivo pubmed\n",
    "def insert_pmcid(pubmed,pmcid_list):\n",
    "    for tupla in pmcid_list:\n",
    "        if pubmed == tupla[0].strip():\n",
    "            return tupla[1]\n",
    "\n",
    "exploded_data['pmcid'] = exploded_data['Pubmed_number'].apply(lambda x: insert_pmcid(pubmed=x,pmcid_list=obtained_pmcids))\n",
    "   "
   ]
  },
  {
   "cell_type": "markdown",
   "metadata": {},
   "source": [
    "# Load"
   ]
  },
  {
   "cell_type": "code",
   "execution_count": 10,
   "metadata": {},
   "outputs": [],
   "source": [
    "exploded_data.to_csv('data/processed/_pcmid_codes.csv',index=False)"
   ]
  }
 ],
 "metadata": {
  "kernelspec": {
   "display_name": "Python 3",
   "language": "python",
   "name": "python3"
  },
  "language_info": {
   "codemirror_mode": {
    "name": "ipython",
    "version": 3
   },
   "file_extension": ".py",
   "mimetype": "text/x-python",
   "name": "python",
   "nbconvert_exporter": "python",
   "pygments_lexer": "ipython3",
   "version": "3.9.2"
  }
 },
 "nbformat": 4,
 "nbformat_minor": 2
}
